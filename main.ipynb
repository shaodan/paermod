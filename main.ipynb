{
 "cells": [
  {
   "cell_type": "code",
   "execution_count": 2,
   "metadata": {
    "collapsed": true
   },
   "outputs": [],
   "source": [
    "# import app\n",
    "# import web\n",
    "\n",
    "# Server A\n",
    "# app.start_server()\n",
    "\n",
    "# Server B\n",
    "# web_server = web.WebServer(3003, quiet=True)\n",
    "# web_server.start()"
   ]
  },
  {
   "cell_type": "code",
   "execution_count": 1,
   "metadata": {
    "collapsed": true
   },
   "outputs": [],
   "source": [
    "import data\n",
    "import numpy as np\n",
    "from matplotlib import pyplot as plt\n",
    "\n",
    "# data.DB()\n",
    "db = data.DBMongo()\n",
    "context = data.context"
   ]
  },
  {
   "cell_type": "code",
   "execution_count": 14,
   "metadata": {},
   "outputs": [
    {
     "name": "stdout",
     "output_type": "stream",
     "text": [
      "[4371, 2270, 4721, 5393, 26, 1649, 28, 25, 26, 25, 6809, 12312, 25, 7634, 8073, 3929, 15948, 20496, 18893, 8800, 5049, 4491, 5256, 5370, 3670, 8457, 6345, 2023, 3451, 2928, 4088, 1986, 5234, 3493, 4224, 3552, 6455, 5358, 6373, 6156, 7220, 8037, 7943, 10132, 9922, 9976, 6783, 3835, 4173, 4072, 5965, 3995, 5814, 3948, 5510, 3181, 3812, 18665, 10551, 7610, 9628, 7681, 12626, 25924, 16829, 31806, 22919, 10611, 23255, 22927, 25, 27174, 25, 25, 25, 4880, 14719, 7723, 5367, 25, 35, 35, 35, 6424, 25, 6595, 3728, 25, 13588, 2325, 3582, 7945, 8003, 8572, 3163, 7031, 1518, 2043, 3151, 4676, 6355, 3259, 4313, 2116, 12336, 11137, 6050, 10675, 3575, 19825, 3386, 7795, 5772, 3151, 4746, 25, 25, 2190, 25, 25, 25, 3182, 5226, 36241, 25, 7712, 10389, 28049, 15665, 3068, 5770, 4293, 2019, 4373, 6148, 2949, 5289, 3508, 4194, 5702, 2126, 8554, 9087, 25355, 7658, 8703, 13272, 11660, 19083, 3967, 30355, 21859, 10282, 22653, 13149, 13820, 16810, 37140, 29206, 18140, 25209, 7311, 15657, 13649, 27249, 10903, 30990, 2311, 19467, 3969, 29072, 4372, 7402, 7554, 3686, 2902, 7371, 8274, 5198, 3905, 3939, 4196, 4518, 7508, 5775, 5437, 8204, 6579, 8395, 7090, 17570, 26552]\n",
      "37140 25 8379\n"
     ]
    }
   ],
   "source": [
    "tasks = db.tasks\n",
    "# print len(tasks)\n",
    "\n",
    "finished = filter(lambda t: t.state==2, tasks)\n",
    "# print len(finished)\n",
    "\n",
    "times = [t.end_time-t.start_time for t in finished]\n",
    "mins = [dt.days*24*60+dt.seconds/60 for dt in times]\n",
    "print mins\n",
    "\n",
    "# for i, m in enumerate(mins):\n",
    "#     if m<=0:\n",
    "#         print i, m\n",
    "\n",
    "# task = finished[157] \n",
    "# print task.name\n",
    "# print task.start_time\n",
    "# print task.end_time\n",
    "\n",
    "# mins = filter(lambda x: x>=0, mins)\n",
    "print max(mins), min(mins), sum(mins)/len(mins)"
   ]
  },
  {
   "cell_type": "code",
   "execution_count": 15,
   "metadata": {},
   "outputs": [
    {
     "data": {
      "image/png": "[encoded data removed]",
      "text/plain": [
       "<matplotlib.figure.Figure at 0x7f10b03003d0>"
      ]
     },
     "metadata": {},
     "output_type": "display_data"
    }
   ],
   "source": [
    "a = np.array(mins)/60/24\n",
    "# plt.hist(a, bins=range(0, 40000, 2000))\n",
    "plt.hist(a, bins=range(0, 30))\n",
    "plt.title(\"histogram\")\n",
    "plt.show()"
   ]
  },
  {
   "cell_type": "code",
   "execution_count": 17,
   "metadata": {},
   "outputs": [
    {
     "data": {
      "image/png": "[encoded data removed]",
      "text/plain": [
       "<matplotlib.figure.Figure at 0x7f10b0194910>"
      ]
     },
     "metadata": {},
     "output_type": "display_data"
    }
   ],
   "source": [
    "plt.hist(a, bins='auto')\n",
    "plt.title(\"histogram\")\n",
    "plt.show()"
   ]
  },
  {
   "cell_type": "code",
   "execution_count": 26,
   "metadata": {},
   "outputs": [
    {
     "data": {
      "text/plain": [
       "(array([159,  33]), array([ 0, 10, 30]))"
      ]
     },
     "execution_count": 26,
     "metadata": {},
     "output_type": "execute_result"
    }
   ],
   "source": [
    "np.histogram(a, bins=[0, 10, 30])"
   ]
  },
  {
   "cell_type": "code",
   "execution_count": 28,
   "metadata": {},
   "outputs": [
    {
     "name": "stdout",
     "output_type": "stream",
     "text": [
      "2017-07-19 23:13:24.361000\n"
     ]
    }
   ],
   "source": [
    "t = context.get_task('PM_0103_12')\n",
    "t.report()\n",
    "print t.end_time"
   ]
  },
  {
   "cell_type": "code",
   "execution_count": 13,
   "metadata": {},
   "outputs": [
    {
     "name": "stdout",
     "output_type": "stream",
     "text": [
      "{'rtime': '18 days, 10:32:53', 'start': '2017-07-15 12:07:00.232000', 'state': 'OK', 'name': 'BC_1003_15', 'server': 'sheet20'}\n"
     ]
    }
   ],
   "source": [
    "# t = context.get_task('BC_1003_12')\n",
    "t = context.get_task('BC_1003_15')\n",
    "t.check_finished()\n",
    "print(t.end_time - t.start_time)\n",
    "# t.save()"
   ]
  },
  {
   "cell_type": "code",
   "execution_count": 2,
   "metadata": {},
   "outputs": [
    {
     "data": {
      "text/plain": [
       "{'cores': 24,\n",
       " 'cpu_load': '50.01%',\n",
       " 'host': 'sheet19',\n",
       " 'last_update': '2017-08-14 17:01:16.974153',\n",
       " 'tasks': ['BC_0103_24_wke',\n",
       "  'BC_0403_01_jam',\n",
       "  'BC_0103_06_apec',\n",
       "  'BC_0103_08_apec',\n",
       "  'BC_0103_09_jam',\n",
       "  'BC_0103_11_wke',\n",
       "  'BC_0103_13_wke',\n",
       "  'BC_0103_14_apec',\n",
       "  'BC_0103_15_jam',\n",
       "  'BC_0103_17_jam',\n",
       "  'BC_0103_19_wke',\n",
       "  'BC_0103_20_apec'],\n",
       " 'tasks_count': 12}"
      ]
     },
     "execution_count": 2,
     "metadata": {},
     "output_type": "execute_result"
    }
   ],
   "source": [
    "import server\n",
    "# reload(server)\n",
    "\n",
    "s = server.Server('sheet19', '/net/19/kun/')\n",
    "s.monitor()\n",
    "s.report()"
   ]
  },
  {
   "cell_type": "code",
   "execution_count": 4,
   "metadata": {},
   "outputs": [
    {
     "data": {
      "text/plain": [
       "{'date': '0403',\n",
       " 'end_time': None,\n",
       " 'hour': '01',\n",
       " 'name': 'BC_0403_01_jam',\n",
       " 'path': '/net/19/kun/BC_0403_01_jam',\n",
       " 'pid': 29324,\n",
       " 'pollutant': 'BC',\n",
       " 'run_time': datetime.timedelta(0, 35828, 376153),\n",
       " 'server': <server.Server at 0x7f866d5f7290>,\n",
       " 'situation': 'jam',\n",
       " 'start_time': datetime.datetime(2017, 8, 14, 7, 4, 8, 598000),\n",
       " 'state': 1}"
      ]
     },
     "execution_count": 4,
     "metadata": {},
     "output_type": "execute_result"
    }
   ],
   "source": [
    "t_running = context.get_task('BC_0403_01_jam')\n",
    "# print t.report()\n",
    "t_running.__dict__\n",
    "\n"
   ]
  },
  {
   "cell_type": "code",
   "execution_count": 45,
   "metadata": {},
   "outputs": [
    {
     "data": {
      "text/plain": [
       "<module 'server' from 'server.pyc'>"
      ]
     },
     "execution_count": 45,
     "metadata": {},
     "output_type": "execute_result"
    }
   ],
   "source": []
  }
 ],
 "metadata": {
  "kernelspec": {
   "display_name": "Python 2",
   "language": "python",
   "name": "python2"
  },
  "language_info": {
   "codemirror_mode": {
    "name": "ipython",
    "version": 2
   },
   "file_extension": ".py",
   "mimetype": "text/x-python",
   "name": "python",
   "nbconvert_exporter": "python",
   "pygments_lexer": "ipython2",
   "version": "2.7.13"
  }
 },
 "nbformat": 4,
 "nbformat_minor": 2
}
